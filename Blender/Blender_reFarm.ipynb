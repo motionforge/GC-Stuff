{
  "nbformat": 4,
  "nbformat_minor": 0,
  "metadata": {
    "colab": {
      "name": "Blender reFarm.ipynb",
      "private_outputs": true,
      "provenance": [],
      "collapsed_sections": [],
      "include_colab_link": true
    },
    "kernelspec": {
      "name": "python3",
      "display_name": "Python 3"
    },
    "accelerator": "GPU"
  },
  "cells": [
    {
      "cell_type": "markdown",
      "metadata": {
        "id": "view-in-github",
        "colab_type": "text"
      },
      "source": [
        "<a href=\"https://colab.research.google.com/github/arHSM/GC-Stuff/blob/main/Blender/Blender_reFarm.ipynb\" target=\"_parent\"><img src=\"https://colab.research.google.com/assets/colab-badge.svg\" alt=\"Open In Colab\"/></a>"
      ]
    },
    {
      "cell_type": "code",
      "metadata": {
        "id": "stYTrUUrM-fD"
      },
      "source": [
        "#@title ### Download & Install Blender { display-mode : \"form\" }\n",
        " \n",
        "#@markdown Folder Name / Blender File (Linux), visit https://download.blender.org/release/\n",
        "Stable_Blender_Version = '' #@param {type:\"string\"} \n",
        "Stable_Blender_Path = 'https://download.blender.org/release/'+Stable_Blender_Version\n",
        " \n",
        "#@markdown If true then no need for Stable Build\n",
        "Experimental_Build = False #@param {type:\"boolean\"}\n",
        "#@markdown Visit https://builder.blender.org/download/ and copy linux build url\n",
        "Experimental_Blender_Version = '' #@param {type:\"string\"}\n",
        "#https://builder.blender.org/download/\n",
        " \n",
        "def getFileName(path):\n",
        "  pathto = path\n",
        "  file = pathto.split('/')\n",
        "  return file[-1]\n",
        " \n",
        "stable_dl = Stable_Blender_Path\n",
        "stable_filename = getFileName(stable_dl)\n",
        " \n",
        "experimental_dl = Experimental_Blender_Version\n",
        "experimental_filename = getFileName(experimental_dl)\n",
        " \n",
        "if (Experimental_Build == True) :\n",
        "  !wget $experimental_dl\n",
        "  !mkdir ./blender && tar -xf $experimental_filename -C ./blender --strip-components 1\n",
        "else :\n",
        "  !wget -nc $stable_dl\n",
        "  !mkdir ./blender && tar xf $stable_filename -C ./blender --strip-components 1\n",
        " \n",
        "!apt install libboost-all-dev\n",
        "!apt install libgl1-mesa-dev\n",
        "!apt install libglu1-mesa libsm-dev\n",
        " \n",
        "from IPython.display import clear_output\n",
        "clear_output()\n",
        " \n",
        "!ls ./blender"
      ],
      "execution_count": null,
      "outputs": []
    },
    {
      "cell_type": "code",
      "metadata": {
        "id": "lqJkcgSBYwQf"
      },
      "source": [
        "#@title ### Attach Google Drive and File Path { display-mode: \"form\" }\n",
        "from google.colab import drive\n",
        " \n",
        "drive.mount('/gdrive')\n",
        " \n",
        "#@markdown Your Folder cannot be in the 'Shared' section it should be in the 'My Drive' section\n",
        "File_Folder = '' #@param {type:\"string\"}\n",
        " \n",
        "#@markdown Your blender file name, do not add .blend and no spaces\n",
        "File_Name = '' #@param {type:\"string\"}\n",
        " \n",
        "File_Dir = '/gdrive/MyDrive/'+File_Folder+'/'+File_Name+'.blend'\n",
        " \n",
        "#@markdown This path is used as rendering path for both Animation Render and Single Frame Render\n",
        " \n",
        "from IPython.display import clear_output\n",
        "clear_output()\n",
        " \n",
        "!ls /gdrive/MyDrive/$File_Folder"
      ],
      "execution_count": null,
      "outputs": []
    },
    {
      "cell_type": "code",
      "metadata": {
        "id": "m-VxWeXmY6M-"
      },
      "source": [
        "#@title ### Render Animation { display-mode: \"form\" }\n",
        "#@markdown\n",
        " \n",
        "#@markdown #### Render Engine\n",
        " \n",
        "Render_Engine = 'CYCLES' #@param ['CYCLES', 'BLENDER_EEVEE', 'BLENDER_WORKBENCH']\n",
        "#@markdown\n",
        " \n",
        "#@markdown #### Animation Settings\n",
        " \n",
        "#@markdown Output Name\n",
        "Animation_Name = '' #@param {type:\"string\"}\n",
        "#@markdown '_####' is automatically added\n",
        " \n",
        "#@markdown Animation Start Frame\n",
        "Animation_Start = 1 #@param {type:\"integer\"}\n",
        " \n",
        "#@markdown Animation End Frame\n",
        "Animation_End =  150#@param {type:\"integer\"}\n",
        " \n",
        "anim_output = '//'+Animation_Name+'_####'\n",
        " \n",
        "!sudo ./blender/blender -b $File_Dir -noaudio -E $Render_Engine -o $anim_output -s $Animation_Start -e $Animation_End -a -- --cycles-device OPTIX"
      ],
      "execution_count": null,
      "outputs": []
    },
    {
      "cell_type": "code",
      "metadata": {
        "id": "eaIbdK8DY_XG"
      },
      "source": [
        "#@title ### Render Single Frame { display-mode: \"form\" }\n",
        "#@markdown\n",
        " \n",
        "#@markdown #### Render Engine\n",
        " \n",
        "Render_Engine = 'CYCLES' #@param ['CYCLES', 'BLENDER_EEVEE', 'BLENDER_WORKBENCH']\n",
        "#@markdown\n",
        " \n",
        "#@markdown #### Frame Settings\n",
        " \n",
        "#@markdown Name of the rendered Frame\n",
        "Image_Name = '' #@param {type:\"string\"}\n",
        " \n",
        "#@markdown Frame Number\n",
        "Frame_Number = 1 #@param {type:\"integer\"}\n",
        " \n",
        "#@markdown Frame Type\n",
        "Image_Type = 'PNG' #@param {type:\"string\"}\n",
        " \n",
        "frame_output = '//'+Image_Name+'_####'\n",
        " \n",
        "!sudo ./blender/blender -b $File_Dir -noaudio -E $Render_Engine -o $frame_output -f $Frame_Number -F $Image_Type -- --cycles-device OPTIX"
      ],
      "execution_count": null,
      "outputs": []
    }
  ]
}