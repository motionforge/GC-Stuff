{
  "nbformat": 4,
  "nbformat_minor": 0,
  "metadata": {
    "colab": {
      "name": "Blender reFarm.ipynb",
      "private_outputs": true,
      "provenance": [],
      "collapsed_sections": [],
      "include_colab_link": true
    },
    "kernelspec": {
      "name": "python3",
      "display_name": "Python 3"
    },
    "accelerator": "GPU"
  },
  "cells": [
    {
      "cell_type": "markdown",
      "metadata": {
        "id": "view-in-github",
        "colab_type": "text"
      },
      "source": [
        "<a href=\"https://colab.research.google.com/github/arHSM/GC-Stuff/blob/main/Blender/Blender_reFarm.ipynb\" target=\"_parent\"><img src=\"https://colab.research.google.com/assets/colab-badge.svg\" alt=\"Open In Colab\"/></a>"
      ]
    },
    {
      "cell_type": "code",
      "metadata": {
        "id": "stYTrUUrM-fD"
      },
      "source": [
        "#@title ### Download & Install Blender { display-mode : \"form\" }\n",
        " \n",
        "#@markdown Visit https://download.blender.org/release/ or https://builder.blender.org/download/experimental and copy linux build url for experimental builds\n",
        "Blender_Build_Link = '' #@param {type:\"string\"}\n",
        "#@markdown Stable Release Example - `https://download.blender.org/release/Blender2.93/blender-2.93.1-linux-x64.tar.xz`\n",
        "#@markdown\n",
        "#@markdown Experimental Release Example - `https://builder.blender.org/download/experimental/blender-3.0.0-alpha+cycles-x.7df40050f94e-linux.x86_64-release.tar.xz`\n",
        "#https://builder.blender.org/download/\n",
        " \n",
        "def getFileName(path):\n",
        "  pathto = path\n",
        "  file = pathto.split('/')\n",
        "  return file[-1]\n",
        "\n",
        "blender_filename = getFileName(Blender_Build_Link)\n",
        " \n",
        "!wget -nc $Blender_Build_Link\n",
        "!mkdir ./blender && tar -xf $blender_filename -C ./blender --strip-components 1\n",
        " \n",
        "!apt install libboost-all-dev\n",
        "!apt install libgl1-mesa-dev\n",
        "!apt install libglu1-mesa libsm-dev\n",
        " \n",
        "from IPython.display import clear_output\n",
        "clear_output()\n",
        " \n",
        "!ls ./blender"
      ],
      "execution_count": null,
      "outputs": []
    },
    {
      "cell_type": "code",
      "metadata": {
        "id": "lqJkcgSBYwQf"
      },
      "source": [
        "#@title ### Attach Google Drive and File Path { display-mode: \"form\" }\n",
        "from google.colab import drive\n",
        " \n",
        "drive.mount('/gdrive')\n",
        " \n",
        "from IPython.display import clear_output\n",
        "clear_output()\n",
        " \n",
        "!ls /gdrive/MyDrive/$File_Folder"
      ],
      "execution_count": null,
      "outputs": []
    },
    {
      "cell_type": "code",
      "metadata": {
        "id": "m-VxWeXmY6M-"
      },
      "source": [
        "#@title ### Render Animation { display-mode: \"form\" }\n",
        "#@markdown\n",
        "\n",
        "#@markdown #### File Settings\n",
        " \n",
        "#@markdown Your Folder *cannot* be in the '**Shared**' section it should be in the '**My Drive**' section. Your folder name '/' blender file name **`(eg : BlenderFiles/Cool_File)`**, **do not add .blend** and **no spaces**\n",
        "Directory_Name = '' #@param {type:\"string\"}\n",
        " \n",
        "File_Dir = '/gdrive/MyDrive/'+File_Name+'.blend'\n",
        "\n",
        "#@markdown #### Render Engine\n",
        " \n",
        "Render_Engine = 'CYCLES' #@param ['CYCLES', 'BLENDER_EEVEE', 'BLENDER_WORKBENCH']\n",
        "#@markdown\n",
        " \n",
        "#@markdown #### Animation Settings\n",
        " \n",
        "#@markdown Output Name\n",
        "Animation_Name = '' #@param {type:\"string\"}\n",
        "#@markdown '_####' is automatically added\n",
        "\n",
        "#@markdown Output Type\n",
        "Override_Format = False #@param {type:\"boolean\"}\n",
        "#@markdown If this is unchecked the render will have the default output format\n",
        "Format = 'OPEN_EXR' #@param ['TGA', 'RAWTGA', 'JPEG', 'IRIS', 'IRIZ', 'AVIRAW', 'AVIJPEG', 'PNG', 'BMP', 'HDR', 'TIFF', 'OPEN_EXR', 'OPEN_EXR_MULTILAYER', 'MPEG', 'CINEON', 'DPX', 'DDS', 'JP2']\n",
        "format_compiled = ''\n",
        "\n",
        "if Override_Format == True :\n",
        "  format_compiled = '-F ' + Format\n",
        "else :\n",
        "  format_compiled = ''\n",
        " \n",
        "#@markdown Animation Start Frame\n",
        "Animation_Start = 1 #@param {type:\"integer\"}\n",
        " \n",
        "#@markdown Animation End Frame\n",
        "Animation_End =  150#@param {type:\"integer\"}\n",
        " \n",
        "anim_output = '//'+Animation_Name+'_####'\n",
        "\n",
        "#@markdown #### Hardware Settings\n",
        "\n",
        "Device_Type = 'OPTIX' #@param ['CPU', 'OPTIX', 'CUDA', 'CUDA+CPU', 'OPENCL', 'OPENCL+CPU']\n",
        " \n",
        "!sudo ./blender/blender -b $File_Dir -noaudio -E $Render_Engine -o $anim_output $format_compiled -s $Animation_Start -e $Animation_End -a -- --cycles-device $Device_Type"
      ],
      "execution_count": null,
      "outputs": []
    },
    {
      "cell_type": "code",
      "metadata": {
        "id": "eaIbdK8DY_XG"
      },
      "source": [
        "#@title ### Render Single Frame { display-mode: \"form\" }\n",
        "#@markdown\n",
        " \n",
        "#@markdown #### File Settings\n",
        " \n",
        "#@markdown Your Folder *cannot* be in the '**Shared**' section it should be in the '**My Drive**' section. Your folder name '/' blender file name **`(eg : BlenderFiles/Cool_File)`**, **do not add .blend** and **no spaces**\n",
        "Directory_Name = '' #@param {type:\"string\"}\n",
        " \n",
        "File_Dir = '/gdrive/MyDrive/'+File_Name+'.blend'\n",
        "\n",
        "#@markdown #### Render Engine\n",
        " \n",
        "Render_Engine = 'CYCLES' #@param ['CYCLES', 'BLENDER_EEVEE', 'BLENDER_WORKBENCH']\n",
        "#@markdown\n",
        " \n",
        "#@markdown #### Frame Settings\n",
        " \n",
        "#@markdown Name of the rendered Frame\n",
        "Image_Name = '' #@param {type:\"string\"}\n",
        " \n",
        "#@markdown Frame Number\n",
        "Frame_Number = 1 #@param {type:\"integer\"}\n",
        " \n",
        "#@markdown Frame Format\n",
        "Image_Type = 'PNG' #@param ['TGA', 'RAWTGA', 'JPEG', 'IRIS', 'IRIZ', 'AVIRAW', 'AVIJPEG', 'PNG', 'BMP', 'HDR', 'TIFF', 'OPEN_EXR', 'OPEN_EXR_MULTILAYER', 'MPEG', 'CINEON', 'DPX', 'DDS', 'JP2']\n",
        " \n",
        "frame_output = '//'+Image_Name+'_####'\n",
        "\n",
        "#@markdown #### Hardware Settings\n",
        "\n",
        "Device_Type = 'OPTIX' #@param ['CPU', 'OPTIX', 'CUDA', 'CUDA+CPU', 'OPENCL', 'OPENCL+CPU']\n",
        " \n",
        "!sudo ./blender/blender -b $File_Dir -noaudio -E $Render_Engine -o $frame_output -f $Frame_Number -F $Image_Type -- --cycles-device $Device_Type"
      ],
      "execution_count": null,
      "outputs": []
    }
  ]
}